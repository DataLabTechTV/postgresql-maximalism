{
 "cells": [
  {
   "cell_type": "markdown",
   "id": "e1568451-0467-4fff-b3d3-cbd7a5615b71",
   "metadata": {},
   "source": [
    "# Setup"
   ]
  },
  {
   "cell_type": "code",
   "execution_count": 1,
   "id": "fe49d755",
   "metadata": {
    "vscode": {
     "languageId": "plaintext"
    }
   },
   "outputs": [],
   "source": [
    "import os\n",
    "\n",
    "import duckdb\n",
    "import pandas as pd\n",
    "import matplotlib.pyplot as plt\n",
    "import networkx as nx\n",
    "\n",
    "from dotenv import load_dotenv\n",
    "\n",
    "plt.style.use(\"ggplot\")\n",
    "plt.rcParams.update({\n",
    "    \"font.size\": 8,\n",
    "    \"figure.figsize\": (5, 3),\n",
    "})\n",
    "\n",
    "%matplotlib inline"
   ]
  },
  {
   "cell_type": "markdown",
   "id": "ce7ebe43-81e8-468f-9a79-aeb5e6d79110",
   "metadata": {},
   "source": [
    "## Environment variables"
   ]
  },
  {
   "cell_type": "code",
   "execution_count": 2,
   "id": "f535643c-b342-4de3-8f2f-2f4106eb541e",
   "metadata": {},
   "outputs": [
    {
     "data": {
      "text/plain": [
       "True"
      ]
     },
     "execution_count": 2,
     "metadata": {},
     "output_type": "execute_result"
    }
   ],
   "source": [
    "load_dotenv()"
   ]
  },
  {
   "cell_type": "markdown",
   "id": "ebd9038a-6f34-45db-badc-3dff23cfe8fd",
   "metadata": {},
   "source": [
    "## PostgreSQL configurations"
   ]
  },
  {
   "cell_type": "code",
   "execution_count": 3,
   "id": "e8833a38-2f96-441f-9ee9-8ff03ab58ef0",
   "metadata": {},
   "outputs": [],
   "source": [
    "pg_user = os.getenv(\"PGUSER\")\n",
    "pg_password = os.getenv(\"PGPASSWORD\")\n",
    "pg_host = os.getenv(\"PGHOST\", \"localhost\")\n",
    "pg_port = os.getenv(\"PGPORT\", \"5432\")\n",
    "pg_database = os.getenv(\"PGDATABASE\")\n",
    "\n",
    "pg_conn_str = f\"postgresql://{pg_user}:{pg_password}@{pg_host}:{pg_port}/{pg_database}\""
   ]
  },
  {
   "cell_type": "markdown",
   "id": "76101068-13b7-424c-86a2-dfe3d36aa921",
   "metadata": {},
   "source": [
    "## MinIO configurations"
   ]
  },
  {
   "cell_type": "code",
   "execution_count": 4,
   "id": "db2ff5bc-697a-44a7-b0b2-55c2a2754590",
   "metadata": {},
   "outputs": [],
   "source": [
    "s3_endpoint = \"http://localhost:9000\"\n",
    "s3_region = \"us-east-1\"\n",
    "s3_access_key_id = os.getenv(\"MINIO_ROOT_USER\", \"admin\")\n",
    "s3_secret_access_key = os.getenv(\"MINIO_ROOT_PASSWORD\", \"admin\")"
   ]
  },
  {
   "cell_type": "markdown",
   "id": "7677b237-4b24-4248-ab7b-b1abb4255190",
   "metadata": {},
   "source": [
    "# Analytics and time series"
   ]
  },
  {
   "cell_type": "markdown",
   "id": "79a7ee14-1a62-461d-aeb3-a3c0ea91861f",
   "metadata": {},
   "source": [
    "## pg_mooncake"
   ]
  },
  {
   "cell_type": "markdown",
   "id": "923f64ed-c540-4c00-8858-d4b93f5504c9",
   "metadata": {},
   "source": [
    "The storage layer of `pg_mooncake` is Delta Lake, so we should be able to access the tables externally."
   ]
  },
  {
   "cell_type": "markdown",
   "id": "39f3c2ae-389a-45b9-8f09-59c1dbe2b50d",
   "metadata": {},
   "source": [
    "### Retrieve storage path"
   ]
  },
  {
   "cell_type": "code",
   "execution_count": 5,
   "id": "fcc048f2-da09-4d5b-b090-84143801c534",
   "metadata": {},
   "outputs": [
    {
     "data": {
      "text/plain": [
       "'s3://lakehouse/mooncake_datalabtech_youtube_111812/'"
      ]
     },
     "execution_count": 5,
     "metadata": {},
     "output_type": "execute_result"
    }
   ],
   "source": [
    "table_path = pd.read_sql_query(\n",
    "    sql=\"\"\"\n",
    "        SELECT path\n",
    "        FROM mooncake.columnstore_tables\n",
    "        WHERE table_name = 'youtube'\n",
    "    \"\"\",\n",
    "    con=pg_conn_str,\n",
    ").loc[0, \"path\"]\n",
    "\n",
    "table_path"
   ]
  },
  {
   "cell_type": "markdown",
   "id": "179b208c-704a-42d5-b05d-be866f85d7c6",
   "metadata": {},
   "source": [
    "### Load using DuckDB"
   ]
  },
  {
   "cell_type": "markdown",
   "id": "0ea4dde7-b4ba-4fdc-bc60-e293e630c429",
   "metadata": {},
   "source": [
    "After setting up the secret to connect to MinIO, we attempt to count the number of rows in the `youtube` table."
   ]
  },
  {
   "cell_type": "code",
   "execution_count": 6,
   "id": "bd3ed761-7a6a-4ba5-9e71-c0d1acd4d6c6",
   "metadata": {},
   "outputs": [
    {
     "name": "stdout",
     "output_type": "stream",
     "text": [
      "(1541128,)\n"
     ]
    }
   ],
   "source": [
    "con = duckdb.connect()\n",
    "\n",
    "con.install_extension(\"httpfs\")\n",
    "con.load_extension(\"httpfs\")\n",
    "\n",
    "con.execute(\n",
    "    f\"\"\"\n",
    "    CREATE SECRET (\n",
    "      TYPE S3,\n",
    "      KEY_ID '{s3_access_key_id}',\n",
    "      SECRET '{s3_secret_access_key}',\n",
    "      ENDPOINT '{s3_endpoint.lstrip(\"http://\")}',\n",
    "      REGION '{s3_region}',\n",
    "      USE_SSL false,\n",
    "      URL_STYLE 'path'\n",
    "    )\n",
    "    \"\"\"\n",
    ")\n",
    "\n",
    "result = con.execute(\"SELECT count(*) FROM delta_scan(?)\", (table_path,)).fetchone()\n",
    "print(result)\n",
    "\n",
    "con.close()"
   ]
  },
  {
   "cell_type": "markdown",
   "id": "fa4772f2-d0b9-48e4-8a0f-0bdfa2cfe70a",
   "metadata": {},
   "source": [
    "## timescaledb_toolkit"
   ]
  },
  {
   "cell_type": "code",
   "execution_count": 7,
   "id": "b248842e-5741-40f0-85ac-e36b0c5ee1a5",
   "metadata": {},
   "outputs": [
    {
     "data": {
      "text/html": [
       "<div>\n",
       "<style scoped>\n",
       "    .dataframe tbody tr th:only-of-type {\n",
       "        vertical-align: middle;\n",
       "    }\n",
       "\n",
       "    .dataframe tbody tr th {\n",
       "        vertical-align: top;\n",
       "    }\n",
       "\n",
       "    .dataframe thead th {\n",
       "        text-align: right;\n",
       "    }\n",
       "</style>\n",
       "<table border=\"1\" class=\"dataframe\">\n",
       "  <thead>\n",
       "    <tr style=\"text-align: right;\">\n",
       "      <th></th>\n",
       "      <th>count</th>\n",
       "    </tr>\n",
       "  </thead>\n",
       "  <tbody>\n",
       "    <tr>\n",
       "      <th>0</th>\n",
       "      <td>1541128</td>\n",
       "    </tr>\n",
       "  </tbody>\n",
       "</table>\n",
       "</div>"
      ],
      "text/plain": [
       "     count\n",
       "0  1541128"
      ]
     },
     "execution_count": 7,
     "metadata": {},
     "output_type": "execute_result"
    }
   ],
   "source": [
    "pd.read_sql_query(sql=\"SELECT count(*) FROM youtube_ts\", con=pg_conn_str)"
   ]
  },
  {
   "cell_type": "markdown",
   "id": "3a9ed9a0-d88c-4084-9db0-b42ac6a486ef",
   "metadata": {},
   "source": [
    "### Hyperfunctions"
   ]
  },
  {
   "cell_type": "code",
   "execution_count": 8,
   "id": "fa281195-e692-4eb6-ae48-7f3b50958f9f",
   "metadata": {
    "scrolled": true
   },
   "outputs": [
    {
     "data": {
      "text/html": [
       "<div>\n",
       "<style scoped>\n",
       "    .dataframe tbody tr th:only-of-type {\n",
       "        vertical-align: middle;\n",
       "    }\n",
       "\n",
       "    .dataframe tbody tr th {\n",
       "        vertical-align: top;\n",
       "    }\n",
       "\n",
       "    .dataframe thead th {\n",
       "        text-align: right;\n",
       "    }\n",
       "</style>\n",
       "<table border=\"1\" class=\"dataframe\">\n",
       "  <thead>\n",
       "    <tr style=\"text-align: right;\">\n",
       "      <th></th>\n",
       "      <th>week_start</th>\n",
       "      <th>orig_comments</th>\n",
       "      <th>lttb_comments</th>\n",
       "      <th>asap_comments</th>\n",
       "    </tr>\n",
       "  </thead>\n",
       "  <tbody>\n",
       "    <tr>\n",
       "      <th>0</th>\n",
       "      <td>2019-04-15</td>\n",
       "      <td>5760490</td>\n",
       "      <td>3111299</td>\n",
       "      <td>5915279</td>\n",
       "    </tr>\n",
       "    <tr>\n",
       "      <th>1</th>\n",
       "      <td>2019-04-22</td>\n",
       "      <td>4999494</td>\n",
       "      <td>418365</td>\n",
       "      <td>4628085</td>\n",
       "    </tr>\n",
       "    <tr>\n",
       "      <th>2</th>\n",
       "      <td>2019-04-29</td>\n",
       "      <td>3523526</td>\n",
       "      <td>302759</td>\n",
       "      <td>3985737</td>\n",
       "    </tr>\n",
       "    <tr>\n",
       "      <th>3</th>\n",
       "      <td>2019-05-06</td>\n",
       "      <td>2190732</td>\n",
       "      <td>284205</td>\n",
       "      <td>2779309</td>\n",
       "    </tr>\n",
       "    <tr>\n",
       "      <th>4</th>\n",
       "      <td>2019-05-13</td>\n",
       "      <td>2645112</td>\n",
       "      <td>507164</td>\n",
       "      <td>3111250</td>\n",
       "    </tr>\n",
       "  </tbody>\n",
       "</table>\n",
       "</div>"
      ],
      "text/plain": [
       "  week_start  orig_comments  lttb_comments  asap_comments\n",
       "0 2019-04-15        5760490        3111299        5915279\n",
       "1 2019-04-22        4999494         418365        4628085\n",
       "2 2019-04-29        3523526         302759        3985737\n",
       "3 2019-05-06        2190732         284205        2779309\n",
       "4 2019-05-13        2645112         507164        3111250"
      ]
     },
     "execution_count": 8,
     "metadata": {},
     "output_type": "execute_result"
    }
   ],
   "source": [
    "weekly_smoothed_comments = pd.read_sql_query(sql=f\"\"\"\n",
    "        SELECT week_start, orig_comments, lttb_comments, asap_comments\n",
    "        FROM youtube_weekly_smoothed_comments()\n",
    "        ORDER BY week_start\n",
    "    \"\"\",\n",
    "    con=pg_conn_str,\n",
    "    parse_dates=[\"week_start\"],\n",
    ")\n",
    "\n",
    "weekly_smoothed_comments.head(5)"
   ]
  },
  {
   "cell_type": "markdown",
   "id": "b89df0f4-b73d-42d1-b898-65916e773418",
   "metadata": {},
   "source": [
    "The plot below shows that LTTB (Largest Triangle Three Buckets), a method for downsampling, does a good job capturing the trend but not the magnitude. On the other hand, ASAP (Automatic Smoothing for Attention Prioritization), a method for smoothing, not only seems to downsample, but it also does a poorer job of capturing the trend."
   ]
  },
  {
   "cell_type": "code",
   "execution_count": 9,
   "id": "09ab9372-077c-4c26-b298-86f7f7cd2027",
   "metadata": {},
   "outputs": [
    {
     "data": {
      "text/plain": [
       "<Axes: title={'center': 'Original vs downsampled no. comments'}>"
      ]
     },
     "execution_count": 9,
     "metadata": {},
     "output_type": "execute_result"
    },
    {
     "data": {
      "image/png": "[encoded data removed]",
      "text/plain": [
       "<Figure size 500x300 with 1 Axes>"
      ]
     },
     "metadata": {},
     "output_type": "display_data"
    }
   ],
   "source": [
    "weekly_smoothed_comments.plot(\n",
    "    title=\"Original vs downsampled no. comments\",\n",
    "    x=\"week_start\",\n",
    "    xlabel=\"\",\n",
    ")"
   ]
  },
  {
   "cell_type": "markdown",
   "id": "9aa9c23a-50f7-4ff7-be59-1d0fbce67bd0",
   "metadata": {},
   "source": [
    "### Dislikes distributions"
   ]
  },
  {
   "cell_type": "code",
   "execution_count": 10,
   "id": "16ff02f0-19d6-4ae7-b984-805939bcefda",
   "metadata": {},
   "outputs": [
    {
     "data": {
      "text/html": [
       "<div>\n",
       "<style scoped>\n",
       "    .dataframe tbody tr th:only-of-type {\n",
       "        vertical-align: middle;\n",
       "    }\n",
       "\n",
       "    .dataframe tbody tr th {\n",
       "        vertical-align: top;\n",
       "    }\n",
       "\n",
       "    .dataframe thead th {\n",
       "        text-align: right;\n",
       "    }\n",
       "</style>\n",
       "<table border=\"1\" class=\"dataframe\">\n",
       "  <thead>\n",
       "    <tr style=\"text-align: right;\">\n",
       "      <th></th>\n",
       "      <th>dislikes</th>\n",
       "      <th>norm_dislikes</th>\n",
       "    </tr>\n",
       "  </thead>\n",
       "  <tbody>\n",
       "    <tr>\n",
       "      <th>0</th>\n",
       "      <td>517</td>\n",
       "      <td>-0.480453</td>\n",
       "    </tr>\n",
       "    <tr>\n",
       "      <th>1</th>\n",
       "      <td>756</td>\n",
       "      <td>-0.163459</td>\n",
       "    </tr>\n",
       "    <tr>\n",
       "      <th>2</th>\n",
       "      <td>321</td>\n",
       "      <td>-0.906547</td>\n",
       "    </tr>\n",
       "    <tr>\n",
       "      <th>3</th>\n",
       "      <td>5945</td>\n",
       "      <td>1.253064</td>\n",
       "    </tr>\n",
       "    <tr>\n",
       "      <th>4</th>\n",
       "      <td>2482</td>\n",
       "      <td>0.710685</td>\n",
       "    </tr>\n",
       "    <tr>\n",
       "      <th>...</th>\n",
       "      <td>...</td>\n",
       "      <td>...</td>\n",
       "    </tr>\n",
       "    <tr>\n",
       "      <th>352</th>\n",
       "      <td>316</td>\n",
       "      <td>-0.921145</td>\n",
       "    </tr>\n",
       "    <tr>\n",
       "      <th>353</th>\n",
       "      <td>590</td>\n",
       "      <td>-0.368054</td>\n",
       "    </tr>\n",
       "    <tr>\n",
       "      <th>354</th>\n",
       "      <td>363</td>\n",
       "      <td>-0.793470</td>\n",
       "    </tr>\n",
       "    <tr>\n",
       "      <th>355</th>\n",
       "      <td>1511</td>\n",
       "      <td>0.366218</td>\n",
       "    </tr>\n",
       "    <tr>\n",
       "      <th>356</th>\n",
       "      <td>485</td>\n",
       "      <td>-0.535694</td>\n",
       "    </tr>\n",
       "  </tbody>\n",
       "</table>\n",
       "<p>357 rows × 2 columns</p>\n",
       "</div>"
      ],
      "text/plain": [
       "     dislikes  norm_dislikes\n",
       "0         517      -0.480453\n",
       "1         756      -0.163459\n",
       "2         321      -0.906547\n",
       "3        5945       1.253064\n",
       "4        2482       0.710685\n",
       "..        ...            ...\n",
       "352       316      -0.921145\n",
       "353       590      -0.368054\n",
       "354       363      -0.793470\n",
       "355      1511       0.366218\n",
       "356       485      -0.535694\n",
       "\n",
       "[357 rows x 2 columns]"
      ]
     },
     "execution_count": 10,
     "metadata": {},
     "output_type": "execute_result"
    }
   ],
   "source": [
    "week_start = '2019-12-02'\n",
    "\n",
    "weekly_dislikes = pd.read_sql_query(sql=f\"\"\"\n",
    "        SELECT dislikes, norm_dislikes\n",
    "        FROM youtube_ts_weekly_features\n",
    "        JOIN youtube_ts_weekly_stats\n",
    "        USING (bucket, ytvideoid)\n",
    "        WHERE date_trunc('week', bucket)::date = '{week_start}'\n",
    "    \"\"\",\n",
    "    con=pg_conn_str,\n",
    ")\n",
    "\n",
    "weekly_dislikes"
   ]
  },
  {
   "cell_type": "markdown",
   "id": "ae639c44-7234-423f-8a18-ad4422d760b8",
   "metadata": {},
   "source": [
    "#### Original value"
   ]
  },
  {
   "cell_type": "code",
   "execution_count": 11,
   "id": "51395606-22ce-417c-80a2-00ca649e5d3e",
   "metadata": {},
   "outputs": [
    {
     "data": {
      "image/png": "[encoded data removed]",
      "text/plain": [
       "<Figure size 500x300 with 1 Axes>"
      ]
     },
     "metadata": {},
     "output_type": "display_data"
    }
   ],
   "source": [
    "weekly_dislikes[\"dislikes\"].plot.hist(\n",
    "    title=\"Dislikes for the week starting on 2020-01-06 (log-y)\",\n",
    "    bins=50,\n",
    "    logy=True,\n",
    ");"
   ]
  },
  {
   "cell_type": "code",
   "execution_count": 12,
   "id": "38bb456d-f9dd-4d62-9c89-53d9e48b9fd0",
   "metadata": {},
   "outputs": [
    {
     "data": {
      "text/plain": [
       "count    3.570000e+02\n",
       "mean     2.076377e+04\n",
       "std      3.286009e+05\n",
       "min      3.500000e+01\n",
       "25%      4.390000e+02\n",
       "50%      8.820000e+02\n",
       "75%      2.296000e+03\n",
       "90%      6.073000e+03\n",
       "95%      9.928000e+03\n",
       "99%      6.856856e+04\n",
       "max      6.208477e+06\n",
       "Name: dislikes, dtype: float64"
      ]
     },
     "execution_count": 12,
     "metadata": {},
     "output_type": "execute_result"
    }
   ],
   "source": [
    "weekly_dislikes[\"dislikes\"].describe(percentiles=[0.25, 0.5, 0.75, 0.9, 0.95, 0.99])"
   ]
  },
  {
   "cell_type": "markdown",
   "id": "10631fa3-ec84-468b-b0be-49deb01a9cc0",
   "metadata": {},
   "source": [
    "Let's improve readability by excluding the 95th percentile."
   ]
  },
  {
   "cell_type": "code",
   "execution_count": 13,
   "id": "ca94a512-e235-4778-8534-123923709df4",
   "metadata": {},
   "outputs": [
    {
     "data": {
      "text/plain": [
       "np.float64(9927.999999999998)"
      ]
     },
     "execution_count": 13,
     "metadata": {},
     "output_type": "execute_result"
    }
   ],
   "source": [
    "p95_dislikes = weekly_dislikes[\"dislikes\"].quantile(0.95)\n",
    "p95_dislikes"
   ]
  },
  {
   "cell_type": "code",
   "execution_count": 14,
   "id": "fab9728f-e410-43c0-8124-27a0168640d2",
   "metadata": {},
   "outputs": [
    {
     "data": {
      "text/plain": [
       "(339,)"
      ]
     },
     "execution_count": 14,
     "metadata": {},
     "output_type": "execute_result"
    }
   ],
   "source": [
    "vis_dislikes = weekly_dislikes[\"dislikes\"]\n",
    "vis_dislikes = vis_dislikes[vis_dislikes <= p95_dislikes]\n",
    "vis_dislikes.shape"
   ]
  },
  {
   "cell_type": "code",
   "execution_count": 15,
   "id": "e7ae7c28-050d-4f17-a5cd-f83a221b7625",
   "metadata": {},
   "outputs": [
    {
     "data": {
      "image/png": "[encoded data removed]",
      "text/plain": [
       "<Figure size 500x300 with 1 Axes>"
      ]
     },
     "metadata": {},
     "output_type": "display_data"
    }
   ],
   "source": [
    "vis_dislikes.plot.hist(\n",
    "    title=\"Dislikes for the week starting on 2020-01-06\\n(log-y, excluding P95)\",\n",
    "    bins=50,\n",
    "    logy=True,\n",
    ");"
   ]
  },
  {
   "cell_type": "markdown",
   "id": "5d81c1d5-0b1c-49fe-ad7f-2ec7b42ee719",
   "metadata": {},
   "source": [
    "#### Transformed value"
   ]
  },
  {
   "cell_type": "code",
   "execution_count": 16,
   "id": "3a282401-ebcd-4015-a714-379b605f834b",
   "metadata": {},
   "outputs": [
    {
     "data": {
      "image/png": "[encoded data removed]",
      "text/plain": [
       "<Figure size 500x300 with 1 Axes>"
      ]
     },
     "metadata": {},
     "output_type": "display_data"
    }
   ],
   "source": [
    "weekly_dislikes[\"norm_dislikes\"].plot.hist(\n",
    "    title=\"Normalized dislikes for the week starting on 2020-01-06\",\n",
    "    bins=50,\n",
    ");"
   ]
  },
  {
   "cell_type": "markdown",
   "id": "85010aef-77cc-4185-993d-a64a0c3985af",
   "metadata": {},
   "source": [
    "# Graphs"
   ]
  },
  {
   "cell_type": "markdown",
   "id": "7ee7e7d1-f7b1-402c-a1a6-46d4e3255bc3",
   "metadata": {},
   "source": [
    "## Null Model"
   ]
  },
  {
   "cell_type": "markdown",
   "id": "4bc84f40-10a7-4423-98f5-ab9e4ee1f1f0",
   "metadata": {},
   "source": [
    "The null model is a random graph with the same number of nodes and edges. We use the stats of such a graph as the baseline to compare with real-world network stats, in particular the average clustering coefficient, which is expected to be higher on the real-world network."
   ]
  },
  {
   "cell_type": "code",
   "execution_count": 17,
   "id": "f19df98a-b93c-40e9-bc7f-294c1499814e",
   "metadata": {},
   "outputs": [
    {
     "data": {
      "text/html": [
       "<div>\n",
       "<style scoped>\n",
       "    .dataframe tbody tr th:only-of-type {\n",
       "        vertical-align: middle;\n",
       "    }\n",
       "\n",
       "    .dataframe tbody tr th {\n",
       "        vertical-align: top;\n",
       "    }\n",
       "\n",
       "    .dataframe thead th {\n",
       "        text-align: right;\n",
       "    }\n",
       "</style>\n",
       "<table border=\"1\" class=\"dataframe\">\n",
       "  <thead>\n",
       "    <tr style=\"text-align: right;\">\n",
       "      <th></th>\n",
       "      <th>val</th>\n",
       "    </tr>\n",
       "    <tr>\n",
       "      <th>stat</th>\n",
       "      <th></th>\n",
       "    </tr>\n",
       "  </thead>\n",
       "  <tbody>\n",
       "    <tr>\n",
       "      <th>num_edges</th>\n",
       "      <td>171002</td>\n",
       "    </tr>\n",
       "    <tr>\n",
       "      <th>num_nodes</th>\n",
       "      <td>22470</td>\n",
       "    </tr>\n",
       "  </tbody>\n",
       "</table>\n",
       "</div>"
      ],
      "text/plain": [
       "              val\n",
       "stat             \n",
       "num_edges  171002\n",
       "num_nodes   22470"
      ]
     },
     "execution_count": 17,
     "metadata": {},
     "output_type": "execute_result"
    }
   ],
   "source": [
    "graph_stats = pd.read_sql_query(\n",
    "    sql=\"\"\"\n",
    "        SELECT\n",
    "            'num_nodes' AS stat,\n",
    "            count(*) AS val\n",
    "        FROM graph.nodes\n",
    "        \n",
    "        UNION\n",
    "        \n",
    "        SELECT\n",
    "            'num_edges' AS stat,\n",
    "            count(*) AS val\n",
    "        FROM graph.edges\n",
    "    \"\"\",\n",
    "    con=pg_conn_str,\n",
    ").set_index(\"stat\")\n",
    "\n",
    "graph_stats"
   ]
  },
  {
   "cell_type": "code",
   "execution_count": 18,
   "id": "4473a1b2-ac16-4c68-993e-7f4de895db60",
   "metadata": {},
   "outputs": [
    {
     "data": {
      "text/plain": [
       "(22470, 171002, 0.000677398715568023)"
      ]
     },
     "execution_count": 18,
     "metadata": {},
     "output_type": "execute_result"
    }
   ],
   "source": [
    "n = graph_stats.loc[\"num_nodes\"].item()\n",
    "m = graph_stats.loc[\"num_edges\"].item()\n",
    "p = 2 * m / (n * (n - 1))\n",
    "\n",
    "n, m, p"
   ]
  },
  {
   "cell_type": "code",
   "execution_count": 19,
   "id": "2673575f-f1bf-459f-bddf-507466d4aeeb",
   "metadata": {},
   "outputs": [
    {
     "name": "stdout",
     "output_type": "stream",
     "text": [
      "CPU times: user 16.1 s, sys: 16.9 ms, total: 16.1 s\n",
      "Wall time: 16.1 s\n"
     ]
    }
   ],
   "source": [
    "%%time\n",
    "null_model = nx.erdos_renyi_graph(n, p)"
   ]
  },
  {
   "cell_type": "code",
   "execution_count": 20,
   "id": "98863b5c-460c-4c5f-ad6d-6f7d455d781e",
   "metadata": {},
   "outputs": [
    {
     "data": {
      "text/plain": [
       "0.0007120984673027632"
      ]
     },
     "execution_count": 20,
     "metadata": {},
     "output_type": "execute_result"
    }
   ],
   "source": [
    "null_model_cc = nx.average_clustering(null_model)\n",
    "null_model_cc"
   ]
  }
 ],
 "metadata": {
  "kernelspec": {
   "display_name": "Python 3 (ipykernel)",
   "language": "python",
   "name": "python3"
  },
  "language_info": {
   "codemirror_mode": {
    "name": "ipython",
    "version": 3
   },
   "file_extension": ".py",
   "mimetype": "text/x-python",
   "name": "python",
   "nbconvert_exporter": "python",
   "pygments_lexer": "ipython3",
   "version": "3.13.3"
  }
 },
 "nbformat": 4,
 "nbformat_minor": 5
}
