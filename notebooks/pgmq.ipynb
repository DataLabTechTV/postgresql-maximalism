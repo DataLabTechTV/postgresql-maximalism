{
 "cells": [
  {
   "cell_type": "markdown",
   "id": "c5bed6b8-ce6e-40e8-97fc-763edab25752",
   "metadata": {},
   "source": [
    "**Note:** The `tembo-pgmq-python` library is listed on [PyPI](https://pypi.org/project/tembo-pgmq-python/) and it is a part of the [pgmq](https://github.com/pgmq/pgmq/tree/main/tembo-pgmq-python) official repo."
   ]
  },
  {
   "cell_type": "markdown",
   "id": "b5adc71b-2ed6-4234-903e-e1c79bd62846",
   "metadata": {},
   "source": [
    "# Setup"
   ]
  },
  {
   "cell_type": "code",
   "execution_count": 1,
   "id": "cb338eeb-c6cb-46d1-8f6a-3188cd4dc3fa",
   "metadata": {},
   "outputs": [],
   "source": [
    "import os\n",
    "\n",
    "import tembo_pgmq_python as pgmq\n",
    "\n",
    "from dotenv import load_dotenv"
   ]
  },
  {
   "cell_type": "markdown",
   "id": "fc6881a1-90ca-4ea1-a6ab-f9707a1f74cc",
   "metadata": {},
   "source": [
    "## Environment variables"
   ]
  },
  {
   "cell_type": "code",
   "execution_count": 2,
   "id": "f0fdd9db-e90c-4837-993c-729740b9ef4d",
   "metadata": {},
   "outputs": [
    {
     "data": {
      "text/plain": [
       "True"
      ]
     },
     "execution_count": 2,
     "metadata": {},
     "output_type": "execute_result"
    }
   ],
   "source": [
    "load_dotenv()"
   ]
  },
  {
   "cell_type": "markdown",
   "id": "746cc3c6-fe38-4713-b4b6-f2354784d088",
   "metadata": {},
   "source": [
    "## PostgreSQL configurations"
   ]
  },
  {
   "cell_type": "markdown",
   "id": "1c7fbde4-1baf-4ce6-8e38-242b0a3d8e37",
   "metadata": {},
   "source": [
    "The `PGMQueue` class does not use the default PostgreSQL environment databases, so we'll have to manually configure the connection."
   ]
  },
  {
   "cell_type": "code",
   "execution_count": 3,
   "id": "2474b904-dd2d-41a2-9d40-f9a40fcc44cc",
   "metadata": {},
   "outputs": [],
   "source": [
    "pg_user = os.getenv(\"PGUSER\")\n",
    "pg_password = os.getenv(\"PGPASSWORD\")\n",
    "pg_host = os.getenv(\"PGHOST\", \"localhost\")\n",
    "pg_port = os.getenv(\"PGPORT\", \"5432\")\n",
    "pg_database = os.getenv(\"PGDATABASE\")"
   ]
  },
  {
   "cell_type": "markdown",
   "id": "728104c0-c964-49a3-ac2c-8ef8790a4a45",
   "metadata": {},
   "source": [
    "# Connecting"
   ]
  },
  {
   "cell_type": "code",
   "execution_count": 4,
   "id": "c303b099-de32-4050-96e2-00a284e956f2",
   "metadata": {},
   "outputs": [],
   "source": [
    "q = pgmq.PGMQueue(\n",
    "    host=pg_host,\n",
    "    port=pg_port,\n",
    "    username=pg_user,\n",
    "    password=pg_password,\n",
    "    database=pg_database,\n",
    ")"
   ]
  },
  {
   "cell_type": "markdown",
   "id": "4346e4c7-a0d3-497e-9900-0f0f3037db0e",
   "metadata": {},
   "source": [
    "# Operations"
   ]
  },
  {
   "cell_type": "code",
   "execution_count": 5,
   "id": "c07d5a6c-9d1b-42e5-bd35-5871d4dd9354",
   "metadata": {},
   "outputs": [],
   "source": [
    "q.create_queue(\"notebook\")"
   ]
  },
  {
   "cell_type": "code",
   "execution_count": 6,
   "id": "8e331cee-345b-4545-8330-8a5d2d9d1a14",
   "metadata": {},
   "outputs": [
    {
     "data": {
      "text/plain": [
       "8"
      ]
     },
     "execution_count": 6,
     "metadata": {},
     "output_type": "execute_result"
    }
   ],
   "source": [
    "message = {\"name\": \"pgmq\", \"demo\": True, \"n\": 10}\n",
    "q.send(\"notebook\", message)"
   ]
  },
  {
   "cell_type": "code",
   "execution_count": 7,
   "id": "03fa289d-cceb-4430-b08a-ad972edbd11d",
   "metadata": {},
   "outputs": [
    {
     "data": {
      "text/plain": [
       "1"
      ]
     },
     "execution_count": 7,
     "metadata": {},
     "output_type": "execute_result"
    }
   ],
   "source": [
    "q.purge(\"notebook\")"
   ]
  },
  {
   "cell_type": "code",
   "execution_count": 8,
   "id": "4ea82d72-390e-4e36-9260-39b7eac5f90f",
   "metadata": {},
   "outputs": [
    {
     "name": "stdout",
     "output_type": "stream",
     "text": [
      "Queue is empty\n"
     ]
    }
   ],
   "source": [
    "m = q.read('notebook', vt=10)\n",
    "\n",
    "if m is None:\n",
    "    print(\"Queue is empty\")\n",
    "else:\n",
    "    print(f\"msg_id={m.msg_id}, message{type(m.message)}={m.message}\")"
   ]
  }
 ],
 "metadata": {
  "kernelspec": {
   "display_name": "Python 3 (ipykernel)",
   "language": "python",
   "name": "python3"
  },
  "language_info": {
   "codemirror_mode": {
    "name": "ipython",
    "version": 3
   },
   "file_extension": ".py",
   "mimetype": "text/x-python",
   "name": "python",
   "nbconvert_exporter": "python",
   "pygments_lexer": "ipython3",
   "version": "3.13.3"
  }
 },
 "nbformat": 4,
 "nbformat_minor": 5
}
