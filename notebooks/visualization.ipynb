{
 "cells": [
  {
   "cell_type": "markdown",
   "id": "e1568451-0467-4fff-b3d3-cbd7a5615b71",
   "metadata": {},
   "source": [
    "# Setup"
   ]
  },
  {
   "cell_type": "code",
   "execution_count": 97,
   "id": "fe49d755",
   "metadata": {
    "vscode": {
     "languageId": "plaintext"
    }
   },
   "outputs": [],
   "source": [
    "import os\n",
    "import json\n",
    "\n",
    "import s3fs\n",
    "\n",
    "from s3path import S3Path\n",
    "\n",
    "import duckdb\n",
    "import polars as pl\n",
    "\n",
    "from dotenv import load_dotenv"
   ]
  },
  {
   "cell_type": "markdown",
   "id": "ce7ebe43-81e8-468f-9a79-aeb5e6d79110",
   "metadata": {},
   "source": [
    "## Environment variables"
   ]
  },
  {
   "cell_type": "code",
   "execution_count": 2,
   "id": "f535643c-b342-4de3-8f2f-2f4106eb541e",
   "metadata": {},
   "outputs": [
    {
     "data": {
      "text/plain": [
       "True"
      ]
     },
     "execution_count": 2,
     "metadata": {},
     "output_type": "execute_result"
    }
   ],
   "source": [
    "load_dotenv()"
   ]
  },
  {
   "cell_type": "markdown",
   "id": "ebd9038a-6f34-45db-badc-3dff23cfe8fd",
   "metadata": {},
   "source": [
    "## PostgreSQL configurations"
   ]
  },
  {
   "cell_type": "code",
   "execution_count": 127,
   "id": "e8833a38-2f96-441f-9ee9-8ff03ab58ef0",
   "metadata": {},
   "outputs": [],
   "source": [
    "pg_user = os.getenv(\"PGUSER\")\n",
    "pg_password = os.getenv(\"PGPASSWORD\")\n",
    "pg_host = os.getenv(\"PGHOST\", \"localhost\")\n",
    "pg_port = os.getenv(\"PGPORT\", \"5432\")\n",
    "pg_database = os.getenv(\"PGDATABASE\")\n",
    "\n",
    "pg_conn_str = f\"postgresql://{pg_user}:{pg_password}@{pg_host}:{pg_port}/{pg_database}\""
   ]
  },
  {
   "cell_type": "markdown",
   "id": "76101068-13b7-424c-86a2-dfe3d36aa921",
   "metadata": {},
   "source": [
    "## MinIO configurations"
   ]
  },
  {
   "cell_type": "code",
   "execution_count": 4,
   "id": "db2ff5bc-697a-44a7-b0b2-55c2a2754590",
   "metadata": {},
   "outputs": [],
   "source": [
    "s3_endpoint = \"http://localhost:9000\"\n",
    "s3_region = \"us-east-1\"\n",
    "s3_access_key_id = os.getenv(\"MINIO_ROOT_USER\", \"admin\")\n",
    "s3_secret_access_key = os.getenv(\"MINIO_ROOT_PASSWORD\", \"admin\")"
   ]
  },
  {
   "cell_type": "markdown",
   "id": "7677b237-4b24-4248-ab7b-b1abb4255190",
   "metadata": {},
   "source": [
    "# Analytics and time series"
   ]
  },
  {
   "cell_type": "markdown",
   "id": "79a7ee14-1a62-461d-aeb3-a3c0ea91861f",
   "metadata": {},
   "source": [
    "## pg_mooncake"
   ]
  },
  {
   "cell_type": "markdown",
   "id": "923f64ed-c540-4c00-8858-d4b93f5504c9",
   "metadata": {},
   "source": [
    "The storage layer of `pg_mooncake` is Delta Lake, so we should be able to access the tables externally."
   ]
  },
  {
   "cell_type": "markdown",
   "id": "39f3c2ae-389a-45b9-8f09-59c1dbe2b50d",
   "metadata": {},
   "source": [
    "### Retrieve storage path"
   ]
  },
  {
   "cell_type": "code",
   "execution_count": 134,
   "id": "fcc048f2-da09-4d5b-b090-84143801c534",
   "metadata": {},
   "outputs": [
    {
     "data": {
      "text/plain": [
       "'s3://lakehouse/mooncake_datalabtech_youtube_102460/'"
      ]
     },
     "execution_count": 134,
     "metadata": {},
     "output_type": "execute_result"
    }
   ],
   "source": [
    "table_path = pl.read_database_uri(\n",
    "    query=\"\"\"\n",
    "        SELECT path\n",
    "        FROM mooncake.columnstore_tables\n",
    "        WHERE table_name = 'youtube'\n",
    "    \"\"\",\n",
    "    uri=pg_conn_str,\n",
    ").item()\n",
    "\n",
    "table_path"
   ]
  },
  {
   "cell_type": "markdown",
   "id": "179b208c-704a-42d5-b05d-be866f85d7c6",
   "metadata": {},
   "source": [
    "### Load using DuckDB"
   ]
  },
  {
   "cell_type": "markdown",
   "id": "0ea4dde7-b4ba-4fdc-bc60-e293e630c429",
   "metadata": {},
   "source": [
    "After setting up the secret to connect to MinIO, we attempt to count the number of rows in the `youtube` table."
   ]
  },
  {
   "cell_type": "code",
   "execution_count": 135,
   "id": "bd3ed761-7a6a-4ba5-9e71-c0d1acd4d6c6",
   "metadata": {},
   "outputs": [
    {
     "name": "stdout",
     "output_type": "stream",
     "text": [
      "(1541128,)\n"
     ]
    }
   ],
   "source": [
    "con = duckdb.connect()\n",
    "\n",
    "con.install_extension(\"httpfs\")\n",
    "con.load_extension(\"httpfs\")\n",
    "\n",
    "con.execute(\n",
    "    f\"\"\"\n",
    "    CREATE SECRET (\n",
    "      TYPE S3,\n",
    "      KEY_ID '{s3_access_key_id}',\n",
    "      SECRET '{s3_secret_access_key}',\n",
    "      ENDPOINT '{s3_endpoint.lstrip(\"http://\")}',\n",
    "      REGION '{s3_region}',\n",
    "      USE_SSL false,\n",
    "      URL_STYLE 'path'\n",
    "    )\n",
    "    \"\"\"\n",
    ")\n",
    "\n",
    "result = con.execute('SELECT count(*) FROM delta_scan(?)', (table_path,)).fetchone()\n",
    "print(result)\n",
    "\n",
    "con.close()"
   ]
  },
  {
   "cell_type": "markdown",
   "id": "fa4772f2-d0b9-48e4-8a0f-0bdfa2cfe70a",
   "metadata": {},
   "source": [
    "## timescaledb_toolkit"
   ]
  },
  {
   "cell_type": "code",
   "execution_count": 137,
   "id": "b248842e-5741-40f0-85ac-e36b0c5ee1a5",
   "metadata": {
    "scrolled": true
   },
   "outputs": [
    {
     "data": {
      "text/html": [
       "<div><style>\n",
       ".dataframe > thead > tr,\n",
       ".dataframe > tbody > tr {\n",
       "  text-align: right;\n",
       "  white-space: pre-wrap;\n",
       "}\n",
       "</style>\n",
       "<small>shape: (1, 1)</small><table border=\"1\" class=\"dataframe\"><thead><tr><th>count</th></tr><tr><td>i64</td></tr></thead><tbody><tr><td>0</td></tr></tbody></table></div>"
      ],
      "text/plain": [
       "shape: (1, 1)\n",
       "┌───────┐\n",
       "│ count │\n",
       "│ ---   │\n",
       "│ i64   │\n",
       "╞═══════╡\n",
       "│ 0     │\n",
       "└───────┘"
      ]
     },
     "execution_count": 137,
     "metadata": {},
     "output_type": "execute_result"
    }
   ],
   "source": [
    "pl.read_database_uri(query=\"SELECT count(*) FROM youtube_ts\", uri=pg_conn_str)"
   ]
  }
 ],
 "metadata": {
  "kernelspec": {
   "display_name": "Python 3 (ipykernel)",
   "language": "python",
   "name": "python3"
  },
  "language_info": {
   "codemirror_mode": {
    "name": "ipython",
    "version": 3
   },
   "file_extension": ".py",
   "mimetype": "text/x-python",
   "name": "python",
   "nbconvert_exporter": "python",
   "pygments_lexer": "ipython3",
   "version": "3.13.3"
  }
 },
 "nbformat": 4,
 "nbformat_minor": 5
}
