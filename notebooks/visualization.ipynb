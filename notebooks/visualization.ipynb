{
 "cells": [
  {
   "cell_type": "markdown",
   "id": "e1568451-0467-4fff-b3d3-cbd7a5615b71",
   "metadata": {},
   "source": [
    "# Setup"
   ]
  },
  {
   "cell_type": "code",
   "execution_count": 2,
   "id": "fe49d755",
   "metadata": {
    "vscode": {
     "languageId": "plaintext"
    }
   },
   "outputs": [],
   "source": [
    "import os\n",
    "\n",
    "import duckdb\n",
    "import pandas as pd\n",
    "import matplotlib.pyplot as plt\n",
    "\n",
    "from dotenv import load_dotenv\n",
    "\n",
    "plt.style.use(\"ggplot\")\n",
    "plt.rcParams.update({\n",
    "    \"font.size\": 8,\n",
    "    \"figure.figsize\": (5, 3),\n",
    "})\n",
    "\n",
    "%matplotlib inline"
   ]
  },
  {
   "cell_type": "markdown",
   "id": "ce7ebe43-81e8-468f-9a79-aeb5e6d79110",
   "metadata": {},
   "source": [
    "## Environment variables"
   ]
  },
  {
   "cell_type": "code",
   "execution_count": 3,
   "id": "f535643c-b342-4de3-8f2f-2f4106eb541e",
   "metadata": {},
   "outputs": [
    {
     "data": {
      "text/plain": [
       "True"
      ]
     },
     "execution_count": 3,
     "metadata": {},
     "output_type": "execute_result"
    }
   ],
   "source": [
    "load_dotenv()"
   ]
  },
  {
   "cell_type": "markdown",
   "id": "ebd9038a-6f34-45db-badc-3dff23cfe8fd",
   "metadata": {},
   "source": [
    "## PostgreSQL configurations"
   ]
  },
  {
   "cell_type": "code",
   "execution_count": 4,
   "id": "e8833a38-2f96-441f-9ee9-8ff03ab58ef0",
   "metadata": {},
   "outputs": [],
   "source": [
    "pg_user = os.getenv(\"PGUSER\")\n",
    "pg_password = os.getenv(\"PGPASSWORD\")\n",
    "pg_host = os.getenv(\"PGHOST\", \"localhost\")\n",
    "pg_port = os.getenv(\"PGPORT\", \"5432\")\n",
    "pg_database = os.getenv(\"PGDATABASE\")\n",
    "\n",
    "pg_conn_str = f\"postgresql://{pg_user}:{pg_password}@{pg_host}:{pg_port}/{pg_database}\""
   ]
  },
  {
   "cell_type": "markdown",
   "id": "76101068-13b7-424c-86a2-dfe3d36aa921",
   "metadata": {},
   "source": [
    "## MinIO configurations"
   ]
  },
  {
   "cell_type": "code",
   "execution_count": 5,
   "id": "db2ff5bc-697a-44a7-b0b2-55c2a2754590",
   "metadata": {},
   "outputs": [],
   "source": [
    "s3_endpoint = \"http://localhost:9000\"\n",
    "s3_region = \"us-east-1\"\n",
    "s3_access_key_id = os.getenv(\"MINIO_ROOT_USER\", \"admin\")\n",
    "s3_secret_access_key = os.getenv(\"MINIO_ROOT_PASSWORD\", \"admin\")"
   ]
  },
  {
   "cell_type": "markdown",
   "id": "7677b237-4b24-4248-ab7b-b1abb4255190",
   "metadata": {},
   "source": [
    "# Analytics and time series"
   ]
  },
  {
   "cell_type": "markdown",
   "id": "79a7ee14-1a62-461d-aeb3-a3c0ea91861f",
   "metadata": {},
   "source": [
    "## pg_mooncake"
   ]
  },
  {
   "cell_type": "markdown",
   "id": "923f64ed-c540-4c00-8858-d4b93f5504c9",
   "metadata": {},
   "source": [
    "The storage layer of `pg_mooncake` is Delta Lake, so we should be able to access the tables externally."
   ]
  },
  {
   "cell_type": "markdown",
   "id": "39f3c2ae-389a-45b9-8f09-59c1dbe2b50d",
   "metadata": {},
   "source": [
    "### Retrieve storage path"
   ]
  },
  {
   "cell_type": "code",
   "execution_count": 6,
   "id": "fcc048f2-da09-4d5b-b090-84143801c534",
   "metadata": {},
   "outputs": [
    {
     "data": {
      "text/plain": [
       "'s3://lakehouse/mooncake_datalabtech_youtube_102466/'"
      ]
     },
     "execution_count": 6,
     "metadata": {},
     "output_type": "execute_result"
    }
   ],
   "source": [
    "table_path = pd.read_sql_query(\n",
    "    sql=\"\"\"\n",
    "        SELECT path\n",
    "        FROM mooncake.columnstore_tables\n",
    "        WHERE table_name = 'youtube'\n",
    "    \"\"\",\n",
    "    con=pg_conn_str,\n",
    ").loc[0, \"path\"]\n",
    "\n",
    "table_path"
   ]
  },
  {
   "cell_type": "markdown",
   "id": "179b208c-704a-42d5-b05d-be866f85d7c6",
   "metadata": {},
   "source": [
    "### Load using DuckDB"
   ]
  },
  {
   "cell_type": "markdown",
   "id": "0ea4dde7-b4ba-4fdc-bc60-e293e630c429",
   "metadata": {},
   "source": [
    "After setting up the secret to connect to MinIO, we attempt to count the number of rows in the `youtube` table."
   ]
  },
  {
   "cell_type": "code",
   "execution_count": 7,
   "id": "bd3ed761-7a6a-4ba5-9e71-c0d1acd4d6c6",
   "metadata": {},
   "outputs": [
    {
     "name": "stdout",
     "output_type": "stream",
     "text": [
      "(1541128,)\n"
     ]
    }
   ],
   "source": [
    "con = duckdb.connect()\n",
    "\n",
    "con.install_extension(\"httpfs\")\n",
    "con.load_extension(\"httpfs\")\n",
    "\n",
    "con.execute(\n",
    "    f\"\"\"\n",
    "    CREATE SECRET (\n",
    "      TYPE S3,\n",
    "      KEY_ID '{s3_access_key_id}',\n",
    "      SECRET '{s3_secret_access_key}',\n",
    "      ENDPOINT '{s3_endpoint.lstrip(\"http://\")}',\n",
    "      REGION '{s3_region}',\n",
    "      USE_SSL false,\n",
    "      URL_STYLE 'path'\n",
    "    )\n",
    "    \"\"\"\n",
    ")\n",
    "\n",
    "result = con.execute(\"SELECT count(*) FROM delta_scan(?)\", (table_path,)).fetchone()\n",
    "print(result)\n",
    "\n",
    "con.close()"
   ]
  },
  {
   "cell_type": "markdown",
   "id": "fa4772f2-d0b9-48e4-8a0f-0bdfa2cfe70a",
   "metadata": {},
   "source": [
    "## timescaledb_toolkit"
   ]
  },
  {
   "cell_type": "code",
   "execution_count": 8,
   "id": "b248842e-5741-40f0-85ac-e36b0c5ee1a5",
   "metadata": {},
   "outputs": [
    {
     "data": {
      "text/html": [
       "<div>\n",
       "<style scoped>\n",
       "    .dataframe tbody tr th:only-of-type {\n",
       "        vertical-align: middle;\n",
       "    }\n",
       "\n",
       "    .dataframe tbody tr th {\n",
       "        vertical-align: top;\n",
       "    }\n",
       "\n",
       "    .dataframe thead th {\n",
       "        text-align: right;\n",
       "    }\n",
       "</style>\n",
       "<table border=\"1\" class=\"dataframe\">\n",
       "  <thead>\n",
       "    <tr style=\"text-align: right;\">\n",
       "      <th></th>\n",
       "      <th>count</th>\n",
       "    </tr>\n",
       "  </thead>\n",
       "  <tbody>\n",
       "    <tr>\n",
       "      <th>0</th>\n",
       "      <td>1541128</td>\n",
       "    </tr>\n",
       "  </tbody>\n",
       "</table>\n",
       "</div>"
      ],
      "text/plain": [
       "     count\n",
       "0  1541128"
      ]
     },
     "execution_count": 8,
     "metadata": {},
     "output_type": "execute_result"
    }
   ],
   "source": [
    "pd.read_sql_query(sql=\"SELECT count(*) FROM youtube_ts\", con=pg_conn_str)"
   ]
  },
  {
   "cell_type": "markdown",
   "id": "3a9ed9a0-d88c-4084-9db0-b42ac6a486ef",
   "metadata": {},
   "source": [
    "### Hyperfunctions"
   ]
  },
  {
   "cell_type": "code",
   "execution_count": 9,
   "id": "fa281195-e692-4eb6-ae48-7f3b50958f9f",
   "metadata": {
    "scrolled": true
   },
   "outputs": [
    {
     "data": {
      "text/html": [
       "<div>\n",
       "<style scoped>\n",
       "    .dataframe tbody tr th:only-of-type {\n",
       "        vertical-align: middle;\n",
       "    }\n",
       "\n",
       "    .dataframe tbody tr th {\n",
       "        vertical-align: top;\n",
       "    }\n",
       "\n",
       "    .dataframe thead th {\n",
       "        text-align: right;\n",
       "    }\n",
       "</style>\n",
       "<table border=\"1\" class=\"dataframe\">\n",
       "  <thead>\n",
       "    <tr style=\"text-align: right;\">\n",
       "      <th></th>\n",
       "      <th>week_start</th>\n",
       "      <th>orig_comments</th>\n",
       "      <th>lttb_comments</th>\n",
       "      <th>asap_comments</th>\n",
       "    </tr>\n",
       "  </thead>\n",
       "  <tbody>\n",
       "    <tr>\n",
       "      <th>0</th>\n",
       "      <td>2019-04-15</td>\n",
       "      <td>1275758934</td>\n",
       "      <td>824283407</td>\n",
       "      <td>100904100</td>\n",
       "    </tr>\n",
       "    <tr>\n",
       "      <th>1</th>\n",
       "      <td>2019-04-22</td>\n",
       "      <td>1039483232</td>\n",
       "      <td>447908276</td>\n",
       "      <td>32548456</td>\n",
       "    </tr>\n",
       "    <tr>\n",
       "      <th>2</th>\n",
       "      <td>2019-04-29</td>\n",
       "      <td>287326723</td>\n",
       "      <td>130516226</td>\n",
       "      <td>46244640</td>\n",
       "    </tr>\n",
       "    <tr>\n",
       "      <th>3</th>\n",
       "      <td>2019-05-06</td>\n",
       "      <td>311853342</td>\n",
       "      <td>88961496</td>\n",
       "      <td>51322095</td>\n",
       "    </tr>\n",
       "    <tr>\n",
       "      <th>4</th>\n",
       "      <td>2019-05-13</td>\n",
       "      <td>345296817</td>\n",
       "      <td>95201851</td>\n",
       "      <td>55042041</td>\n",
       "    </tr>\n",
       "  </tbody>\n",
       "</table>\n",
       "</div>"
      ],
      "text/plain": [
       "  week_start  orig_comments  lttb_comments  asap_comments\n",
       "0 2019-04-15     1275758934      824283407      100904100\n",
       "1 2019-04-22     1039483232      447908276       32548456\n",
       "2 2019-04-29      287326723      130516226       46244640\n",
       "3 2019-05-06      311853342       88961496       51322095\n",
       "4 2019-05-13      345296817       95201851       55042041"
      ]
     },
     "execution_count": 9,
     "metadata": {},
     "output_type": "execute_result"
    }
   ],
   "source": [
    "weekly_smoothed_comments = pd.read_sql_query(sql=f\"\"\"\n",
    "        SELECT week_start, orig_comments, lttb_comments, asap_comments\n",
    "        FROM weekly_smoothed_comments()\n",
    "        ORDER BY week_start\n",
    "    \"\"\",\n",
    "    con=pg_conn_str,\n",
    "    parse_dates=[\"week_start\"],\n",
    ")\n",
    "\n",
    "weekly_smoothed_comments.head(5)"
   ]
  },
  {
   "cell_type": "markdown",
   "id": "b89df0f4-b73d-42d1-b898-65916e773418",
   "metadata": {},
   "source": [
    "The plot below shows that LTTB (Largest Triangle Three Buckets), a method for downsampling, does a good job capturing the trend but not the magnitude. On the other hand, ASAP (Automatic Smoothing for Attention Prioritization), a method for smoothing, not only seems to downsample, but it also does a poor job of capturing the trend."
   ]
  },
  {
   "cell_type": "code",
   "execution_count": 10,
   "id": "09ab9372-077c-4c26-b298-86f7f7cd2027",
   "metadata": {},
   "outputs": [
    {
     "data": {
      "text/plain": [
       "<Axes: title={'center': 'Original vs downsampled no. comments'}, xlabel='week_start'>"
      ]
     },
     "execution_count": 10,
     "metadata": {},
     "output_type": "execute_result"
    },
    {
     "data": {
      "image/png": "[encoded data removed]",
      "text/plain": [
       "<Figure size 500x300 with 1 Axes>"
      ]
     },
     "metadata": {},
     "output_type": "display_data"
    }
   ],
   "source": [
    "weekly_smoothed_comments.plot(\n",
    "    title=\"Original vs downsampled no. comments\",\n",
    "    x=\"week_start\"\n",
    ")"
   ]
  },
  {
   "cell_type": "markdown",
   "id": "9aa9c23a-50f7-4ff7-be59-1d0fbce67bd0",
   "metadata": {},
   "source": [
    "### Dislikes distributions"
   ]
  },
  {
   "cell_type": "code",
   "execution_count": 12,
   "id": "16ff02f0-19d6-4ae7-b984-805939bcefda",
   "metadata": {},
   "outputs": [
    {
     "data": {
      "text/html": [
       "<div>\n",
       "<style scoped>\n",
       "    .dataframe tbody tr th:only-of-type {\n",
       "        vertical-align: middle;\n",
       "    }\n",
       "\n",
       "    .dataframe tbody tr th {\n",
       "        vertical-align: top;\n",
       "    }\n",
       "\n",
       "    .dataframe thead th {\n",
       "        text-align: right;\n",
       "    }\n",
       "</style>\n",
       "<table border=\"1\" class=\"dataframe\">\n",
       "  <thead>\n",
       "    <tr style=\"text-align: right;\">\n",
       "      <th></th>\n",
       "      <th>dislikes</th>\n",
       "      <th>norm_dislikes</th>\n",
       "    </tr>\n",
       "  </thead>\n",
       "  <tbody>\n",
       "    <tr>\n",
       "      <th>0</th>\n",
       "      <td>490</td>\n",
       "      <td>-0.687471</td>\n",
       "    </tr>\n",
       "    <tr>\n",
       "      <th>1</th>\n",
       "      <td>16301</td>\n",
       "      <td>1.794950</td>\n",
       "    </tr>\n",
       "    <tr>\n",
       "      <th>2</th>\n",
       "      <td>2711</td>\n",
       "      <td>0.691599</td>\n",
       "    </tr>\n",
       "    <tr>\n",
       "      <th>3</th>\n",
       "      <td>176040</td>\n",
       "      <td>2.856531</td>\n",
       "    </tr>\n",
       "    <tr>\n",
       "      <th>4</th>\n",
       "      <td>34229</td>\n",
       "      <td>2.168816</td>\n",
       "    </tr>\n",
       "    <tr>\n",
       "      <th>...</th>\n",
       "      <td>...</td>\n",
       "      <td>...</td>\n",
       "    </tr>\n",
       "    <tr>\n",
       "      <th>33000</th>\n",
       "      <td>3782</td>\n",
       "      <td>0.920194</td>\n",
       "    </tr>\n",
       "    <tr>\n",
       "      <th>33001</th>\n",
       "      <td>507</td>\n",
       "      <td>-0.656286</td>\n",
       "    </tr>\n",
       "    <tr>\n",
       "      <th>33002</th>\n",
       "      <td>171</td>\n",
       "      <td>-1.733900</td>\n",
       "    </tr>\n",
       "    <tr>\n",
       "      <th>33003</th>\n",
       "      <td>22529</td>\n",
       "      <td>1.963322</td>\n",
       "    </tr>\n",
       "    <tr>\n",
       "      <th>33004</th>\n",
       "      <td>2446</td>\n",
       "      <td>0.618558</td>\n",
       "    </tr>\n",
       "  </tbody>\n",
       "</table>\n",
       "<p>33005 rows × 2 columns</p>\n",
       "</div>"
      ],
      "text/plain": [
       "       dislikes  norm_dislikes\n",
       "0           490      -0.687471\n",
       "1         16301       1.794950\n",
       "2          2711       0.691599\n",
       "3        176040       2.856531\n",
       "4         34229       2.168816\n",
       "...         ...            ...\n",
       "33000      3782       0.920194\n",
       "33001       507      -0.656286\n",
       "33002       171      -1.733900\n",
       "33003     22529       1.963322\n",
       "33004      2446       0.618558\n",
       "\n",
       "[33005 rows x 2 columns]"
      ]
     },
     "execution_count": 12,
     "metadata": {},
     "output_type": "execute_result"
    }
   ],
   "source": [
    "week_start = '2020-01-06'\n",
    "\n",
    "weekly_dislikes = pd.read_sql_query(sql=f\"\"\"\n",
    "        SELECT dislikes, norm_dislikes\n",
    "        FROM youtube_ts\n",
    "        WHERE date_trunc('week', \"timestamp\")::date = '{week_start}'\n",
    "    \"\"\",\n",
    "    con=pg_conn_str,\n",
    ")\n",
    "\n",
    "weekly_dislikes"
   ]
  },
  {
   "cell_type": "markdown",
   "id": "ae639c44-7234-423f-8a18-ad4422d760b8",
   "metadata": {},
   "source": [
    "#### Original value"
   ]
  },
  {
   "cell_type": "code",
   "execution_count": 13,
   "id": "e7ae7c28-050d-4f17-a5cd-f83a221b7625",
   "metadata": {},
   "outputs": [
    {
     "data": {
      "text/plain": [
       "<Axes: title={'center': 'Dislikes for the week starting on 2020-01-06 (log-y)'}, ylabel='Frequency'>"
      ]
     },
     "execution_count": 13,
     "metadata": {},
     "output_type": "execute_result"
    },
    {
     "data": {
      "image/png": "[encoded data removed]",
      "text/plain": [
       "<Figure size 500x300 with 1 Axes>"
      ]
     },
     "metadata": {},
     "output_type": "display_data"
    }
   ],
   "source": [
    "weekly_dislikes[\"dislikes\"].plot.hist(\n",
    "    title=\"Dislikes for the week starting on 2020-01-06 (log-y)\",\n",
    "    bins=50,\n",
    "    logy=True,\n",
    ")"
   ]
  },
  {
   "cell_type": "markdown",
   "id": "5d81c1d5-0b1c-49fe-ad7f-2ec7b42ee719",
   "metadata": {},
   "source": [
    "#### Transformed value"
   ]
  },
  {
   "cell_type": "code",
   "execution_count": 14,
   "id": "3a282401-ebcd-4015-a714-379b605f834b",
   "metadata": {},
   "outputs": [
    {
     "data": {
      "text/plain": [
       "<Axes: title={'center': 'Normalized dislikes for the week starting on 2020-01-06'}, ylabel='Frequency'>"
      ]
     },
     "execution_count": 14,
     "metadata": {},
     "output_type": "execute_result"
    },
    {
     "data": {
      "image/png": "[encoded data removed]",
      "text/plain": [
       "<Figure size 500x300 with 1 Axes>"
      ]
     },
     "metadata": {},
     "output_type": "display_data"
    }
   ],
   "source": [
    "weekly_dislikes[\"norm_dislikes\"].plot.hist(\n",
    "    title=\"Normalized dislikes for the week starting on 2020-01-06\",\n",
    "    bins=50,\n",
    ")"
   ]
  }
 ],
 "metadata": {
  "kernelspec": {
   "display_name": "Python 3 (ipykernel)",
   "language": "python",
   "name": "python3"
  },
  "language_info": {
   "codemirror_mode": {
    "name": "ipython",
    "version": 3
   },
   "file_extension": ".py",
   "mimetype": "text/x-python",
   "name": "python",
   "nbconvert_exporter": "python",
   "pygments_lexer": "ipython3",
   "version": "3.13.3"
  }
 },
 "nbformat": 4,
 "nbformat_minor": 5
}
